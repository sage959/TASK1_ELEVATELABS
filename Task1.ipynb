{
  "nbformat": 4,
  "nbformat_minor": 0,
  "metadata": {
    "colab": {
      "provenance": [],
      "authorship_tag": "ABX9TyOugj64cU592gsJvZxbRoGe",
      "include_colab_link": true
    },
    "kernelspec": {
      "name": "python3",
      "display_name": "Python 3"
    },
    "language_info": {
      "name": "python"
    }
  },
  "cells": [
    {
      "cell_type": "markdown",
      "metadata": {
        "id": "view-in-github",
        "colab_type": "text"
      },
      "source": [
        "<a href=\"https://colab.research.google.com/github/sage959/TASK1_ELEVATELABS/blob/main/Task1.ipynb\" target=\"_parent\"><img src=\"https://colab.research.google.com/assets/colab-badge.svg\" alt=\"Open In Colab\"/></a>"
      ]
    },
    {
      "cell_type": "code",
      "execution_count": 1,
      "metadata": {
        "id": "WD7eX5JOIqMw"
      },
      "outputs": [],
      "source": [
        "import pandas as pd\n",
        "\n",
        "df = pd.read_csv(\"amazon.csv\")"
      ]
    },
    {
      "cell_type": "code",
      "source": [
        "#See how many nulls each column has\n",
        "null_counts = df.isnull().sum()\n",
        "print(null_counts)"
      ],
      "metadata": {
        "colab": {
          "base_uri": "https://localhost:8080/"
        },
        "id": "jtvulm12KrLj",
        "outputId": "914ce119-0bff-4c47-c315-4a1f179bfe93"
      },
      "execution_count": 8,
      "outputs": [
        {
          "output_type": "stream",
          "name": "stdout",
          "text": [
            "product_id             0\n",
            "product_name           0\n",
            "category               0\n",
            "discounted_price       0\n",
            "actual_price           0\n",
            "discount_percentage    0\n",
            "rating                 0\n",
            "rating_count           2\n",
            "about_product          0\n",
            "user_id                0\n",
            "user_name              0\n",
            "review_id              0\n",
            "review_title           0\n",
            "review_content         0\n",
            "img_link               0\n",
            "product_link           0\n",
            "dtype: int64\n"
          ]
        }
      ]
    },
    {
      "cell_type": "code",
      "source": [
        "import pandas as pd\n",
        "df = pd.read_csv(\"amazon.csv\")\n",
        "\n",
        "remaining_nulls = df.isnull().sum().sort_values(ascending=False)\n",
        "print(\"Columns with remaining null counts:\\n\", remaining_nulls[remaining_nulls > 0])\n",
        "\n",
        "for col, null_count in remaining_nulls[remaining_nulls > 0].items():\n",
        "    dtype = df[col].dtype\n",
        "\n",
        "    if pd.api.types.is_numeric_dtype(dtype):\n",
        "        median_val = df[col].median()\n",
        "        print(f\"Filling {null_count} null(s) in numeric column '{col}' with median = {median_val}\")\n",
        "        df[col] = df[col].fillna(median_val)\n",
        "\n",
        "    elif pd.api.types.is_datetime64_any_dtype(dtype):\n",
        "        placeholder = pd.Timestamp(\"1970-01-01\")\n",
        "        print(f\"Filling {null_count} null(s) in datetime column '{col}' with {placeholder.date()}\")\n",
        "        df[col] = df[col].fillna(placeholder)\n",
        "\n",
        "    else:\n",
        "        print(f\"Filling {null_count} null(s) in text column '{col}' with 'Unknown'\")\n",
        "        df[col] = df[col].fillna(\"Unknown\")"
      ],
      "metadata": {
        "colab": {
          "base_uri": "https://localhost:8080/"
        },
        "id": "a0UAlYSaNAd6",
        "outputId": "af54c27b-747c-45e2-9118-4535828f2580"
      },
      "execution_count": 18,
      "outputs": [
        {
          "output_type": "stream",
          "name": "stdout",
          "text": [
            "Columns with remaining null counts:\n",
            " rating_count    2\n",
            "dtype: int64\n",
            "Filling 2 null(s) in text column 'rating_count' with 'Unknown'\n"
          ]
        }
      ]
    },
    {
      "cell_type": "code",
      "source": [
        "null_counts = df.isnull().sum()\n",
        "print(null_counts)"
      ],
      "metadata": {
        "colab": {
          "base_uri": "https://localhost:8080/"
        },
        "id": "0Rcf1MAKNZ0U",
        "outputId": "c61b8c7d-21a4-4ee0-f9c0-c08018df2029"
      },
      "execution_count": 15,
      "outputs": [
        {
          "output_type": "stream",
          "name": "stdout",
          "text": [
            "product_id             0\n",
            "product_name           0\n",
            "category               0\n",
            "discounted_price       0\n",
            "actual_price           0\n",
            "discount_percentage    0\n",
            "rating                 0\n",
            "rating_count           0\n",
            "about_product          0\n",
            "user_id                0\n",
            "user_name              0\n",
            "review_id              0\n",
            "review_title           0\n",
            "review_content         0\n",
            "img_link               0\n",
            "product_link           0\n",
            "dtype: int64\n"
          ]
        }
      ]
    },
    {
      "cell_type": "code",
      "source": [
        "df.columns = (\n",
        "    df.columns\n",
        "    .str.strip()\n",
        "    .str.lower()\n",
        "    .str.replace(\" \", \"_\")\n",
        "    .str.replace(r\"[^\\w_]\", \"\", regex=True)\n",
        ")"
      ],
      "metadata": {
        "id": "dwPxtfSDPsTd"
      },
      "execution_count": 19,
      "outputs": []
    },
    {
      "cell_type": "code",
      "source": [
        "df = df.drop_duplicates().reset_index(drop=True)"
      ],
      "metadata": {
        "id": "t0mULY4ESKTv"
      },
      "execution_count": 20,
      "outputs": []
    },
    {
      "cell_type": "code",
      "source": [
        "df[\"user_name\"] = df[\"user_name\"].astype(\"string\")\n",
        "df = pd.read_csv(\"amazon.csv\", dtype={\"user_name\": \"string\"})"
      ],
      "metadata": {
        "id": "3trYGGnrTxlk"
      },
      "execution_count": 50,
      "outputs": []
    },
    {
      "cell_type": "code",
      "source": [
        "print(\"\\nFinal dtypes:\\n\", df.dtypes)"
      ],
      "metadata": {
        "colab": {
          "base_uri": "https://localhost:8080/"
        },
        "id": "DvLsn0Y2V2m7",
        "outputId": "28bc146b-1610-4516-9738-34e16be044e4"
      },
      "execution_count": 42,
      "outputs": [
        {
          "output_type": "stream",
          "name": "stdout",
          "text": [
            "\n",
            "Final dtypes:\n",
            " product_id                     object\n",
            "product_name                   object\n",
            "category                       object\n",
            "discounted_price               object\n",
            "actual_price                   object\n",
            "discount_percentage            object\n",
            "rating                         object\n",
            "rating_count                   object\n",
            "about_product                  object\n",
            "user_id                        object\n",
            "user_name              string[python]\n",
            "review_id                      object\n",
            "review_title                   object\n",
            "review_content                 object\n",
            "img_link                       object\n",
            "product_link                   object\n",
            "dtype: object\n"
          ]
        }
      ]
    },
    {
      "cell_type": "code",
      "source": [
        "df[\"rating_count\"] = pd.to_numeric(df[\"rating_count\"], errors=\"coerce\")"
      ],
      "metadata": {
        "id": "0KKZqJvqV_Bt"
      },
      "execution_count": 43,
      "outputs": []
    },
    {
      "cell_type": "code",
      "source": [
        "df[\"rating\"] = pd.to_numeric(df[\"rating\"], errors=\"coerce\")"
      ],
      "metadata": {
        "id": "JZwaAUGmWFxq"
      },
      "execution_count": 46,
      "outputs": []
    },
    {
      "cell_type": "code",
      "source": [
        "print(\"\\nFinal dtypes:\\n\", df.dtypes)\n"
      ],
      "metadata": {
        "colab": {
          "base_uri": "https://localhost:8080/"
        },
        "id": "_AjiyaZgWCFt",
        "outputId": "2f8165e6-e9b2-4dfc-e0ef-6727ca8ad5c8"
      },
      "execution_count": 47,
      "outputs": [
        {
          "output_type": "stream",
          "name": "stdout",
          "text": [
            "\n",
            "Final dtypes:\n",
            " product_id                     object\n",
            "product_name                   object\n",
            "category                       object\n",
            "discounted_price               object\n",
            "actual_price                   object\n",
            "discount_percentage            object\n",
            "rating                        float64\n",
            "rating_count                  float64\n",
            "about_product                  object\n",
            "user_id                        object\n",
            "user_name              string[python]\n",
            "review_id                      object\n",
            "review_title                   object\n",
            "review_content                 object\n",
            "img_link                       object\n",
            "product_link                   object\n",
            "dtype: object\n"
          ]
        }
      ]
    },
    {
      "cell_type": "code",
      "source": [
        "df.to_csv(\"amazon_cleaned.csv\", index=False)\n",
        "print(\"\\nSaved fully null‐free data to 'amazon_cleaned.csv'\")"
      ],
      "metadata": {
        "colab": {
          "base_uri": "https://localhost:8080/"
        },
        "id": "gOZ2LmmcST2Q",
        "outputId": "f87e5ffd-a0c0-416d-c09f-a284412ab03a"
      },
      "execution_count": 48,
      "outputs": [
        {
          "output_type": "stream",
          "name": "stdout",
          "text": [
            "\n",
            "Saved fully null‐free data to 'amazon_cleaned.csv'\n"
          ]
        }
      ]
    }
  ]
}